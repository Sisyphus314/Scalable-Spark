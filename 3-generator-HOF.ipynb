{
 "cells": [
  {
   "cell_type": "code",
   "execution_count": 1,
   "metadata": {},
   "outputs": [],
   "source": [
    "import csv"
   ]
  },
  {
   "cell_type": "code",
   "execution_count": 11,
   "metadata": {},
   "outputs": [],
   "source": [
    "def citibike_start(filename):\n",
    "    with open(filename,'r') as fi:\n",
    "        reader = csv.DictReader(fi)\n",
    "        for row in reader:\n",
    "            starttime = row['starttime'][0:10]\n",
    "            birth = row[\"birth_year\"]\n",
    "            yield (starttime, birth)\n",
    "start_age = {}\n",
    "for start in citibike_start(\"citibike.csv\"):\n",
    "    if start[0] not in start_age:\n",
    "        start_age[start[0]] = start[1]"
   ]
  },
  {
   "cell_type": "code",
   "execution_count": 12,
   "metadata": {},
   "outputs": [
    {
     "data": {
      "text/plain": [
       "{'2015-02-01': '1978',\n",
       " '2015-02-02': '1992',\n",
       " '2015-02-03': '1982',\n",
       " '2015-02-04': '1969',\n",
       " '2015-02-05': '1971',\n",
       " '2015-02-06': '1989',\n",
       " '2015-02-07': '1963'}"
      ]
     },
     "execution_count": 12,
     "metadata": {},
     "output_type": "execute_result"
    }
   ],
   "source": [
    "start_age"
   ]
  },
  {
   "cell_type": "code",
   "execution_count": 17,
   "metadata": {},
   "outputs": [],
   "source": [
    "start_list = list(start_age.values())"
   ]
  },
  {
   "cell_type": "code",
   "execution_count": 18,
   "metadata": {},
   "outputs": [
    {
     "data": {
      "text/plain": [
       "['1978', '1992', '1982', '1969', '1971', '1989', '1963']"
      ]
     },
     "execution_count": 18,
     "metadata": {},
     "output_type": "execute_result"
    }
   ],
   "source": [
    "start_list"
   ]
  },
  {
   "cell_type": "code",
   "execution_count": 41,
   "metadata": {},
   "outputs": [],
   "source": [
    "with open(\"citibike.csv\",'r') as fi:\n",
    "    reader = csv.DictReader(fi)       "
   ]
  },
  {
   "cell_type": "code",
   "execution_count": 95,
   "metadata": {},
   "outputs": [
    {
     "name": "stdout",
     "output_type": "stream",
     "text": [
      "['1978', '1992', '1982', '1969', '1971', '1989', '1963']\n",
      "{}\n",
      "dict_values([])\n"
     ]
    }
   ],
   "source": [
    "with open(\"citibike.csv\",'r') as fi:\n",
    "    reader = csv.DictReader(fi) \n",
    "    def first_ride(reader):\n",
    "        timeDict = {}\n",
    "        for i in reader:\n",
    "            if i['starttime'][0:10] not in timeDict:\n",
    "                timeDict[i['starttime'][0:10]] = i['birth_year']\n",
    "        return timeDict\n",
    "    print(list(first_ride(reader).values()))\n",
    "    print(first_ride(reader))\n",
    "    print(first_ride(reader).values())"
   ]
  },
  {
   "cell_type": "code",
   "execution_count": 97,
   "metadata": {},
   "outputs": [
    {
     "name": "stdout",
     "output_type": "stream",
     "text": [
      "['1978', '1992', '1982', '1969', '1971', '1989', '1963']\n"
     ]
    }
   ],
   "source": [
    "with open(\"citibike.csv\",'r') as fi:\n",
    "    reader = csv.DictReader(fi)\n",
    "    first_birth_years = list(map(lambda x: x[1], first_ride(reader).items()))\n",
    "print(first_birth_years)"
   ]
  },
  {
   "cell_type": "code",
   "execution_count": null,
   "metadata": {},
   "outputs": [],
   "source": []
  }
 ],
 "metadata": {
  "kernelspec": {
   "display_name": "Python 3",
   "language": "python",
   "name": "python3"
  },
  "language_info": {
   "codemirror_mode": {
    "name": "ipython",
    "version": 3
   },
   "file_extension": ".py",
   "mimetype": "text/x-python",
   "name": "python",
   "nbconvert_exporter": "python",
   "pygments_lexer": "ipython3",
   "version": "3.7.3"
  }
 },
 "nbformat": 4,
 "nbformat_minor": 2
}
